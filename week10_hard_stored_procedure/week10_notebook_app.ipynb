{
 "cells": [
  {
   "cell_type": "code",
   "execution_count": null,
   "id": "5d90eaaa-f1d0-49a7-886e-9455ccbc410d",
   "metadata": {
    "collapsed": false,
    "language": "sql",
    "name": "Setting_Env"
   },
   "outputs": [],
   "source": [
    "use role sysadmin;\n",
    "use warehouse gaku_wh;\n",
    "create or replace database ff_week_10;\n",
    "use database ff_week_10;"
   ]
  },
  {
   "cell_type": "code",
   "execution_count": null,
   "id": "84d9e190-a761-480f-b583-7086ee507f9e",
   "metadata": {
    "collapsed": false,
    "language": "sql",
    "name": "create_warehouses"
   },
   "outputs": [],
   "source": [
    "-- create warehouse\n",
    "create or replace warehouse ff_week10_xsmall_wh \n",
    "    with warehouse_size = XSMALL\n",
    "    auto_suspend = 60\n",
    "    auto_resume = true\n",
    "    initially_suspended = true \n",
    "    statement_timeout_in_seconds = 3600\n",
    "    comment = 'Frosty Friday Week10 検証用'   \n",
    ";\n",
    "    \n",
    "create or replace warehouse ff_week10_small_wh \n",
    "    with warehouse_size = SMALL\n",
    "    auto_suspend = 60\n",
    "    auto_resume = true\n",
    "    initially_suspended = true \n",
    "    statement_timeout_in_seconds = 3600\n",
    "    comment = 'Frosty Friday Week10 検証用'\n",
    ";"
   ]
  },
  {
   "cell_type": "code",
   "execution_count": null,
   "id": "cd1d2e51-9d62-49e8-98f6-68d295cd133f",
   "metadata": {
    "collapsed": false,
    "language": "sql",
    "name": "create_file_format"
   },
   "outputs": [],
   "source": [
    "create or replace file format ff_csv_format\n",
    "  type = CSV\n",
    "  skip_header = 1\n",
    "  null_if = ('\\\\N', 'NULL', 'NUL', '')\n",
    "  field_optionally_enclosed_by = '\"'\n",
    "  skip_blank_lines = true -- default false, 空白行をスキップ \n",
    "  trim_space = true -- default false, |\" Hello world \"|  /* loads as */  > Hello world < | \"Hello world\" |  /* loads as */  >Hello world<\n",
    "  error_on_column_count_mismatch = true -- default true : 入力ファイルの区切り列（フィールド）の数が対応するテーブルの列の数と一致しない場合に、解析エラーを生成するかどうかを指定するブール値\n",
    "  replace_invalid_characters = true -- default false\n",
    "  empty_field_as_null = true -- default true\n",
    ";\n",
    "\n",
    "create or replace stage ff_week_10_frosty_stage_\n",
    "    url = 's3://frostyfridaychallenges/challenge_10/'\n",
    "    file_format = (type = csv)\n",
    ";\n",
    "list @ff_week_10_frosty_stage_;"
   ]
  },
  {
   "cell_type": "code",
   "execution_count": null,
   "id": "2a1fd680-695a-4253-bc5d-e7f4a6fd5bef",
   "metadata": {
    "collapsed": false,
    "language": "sql",
    "name": "view_row_csvfile"
   },
   "outputs": [],
   "source": [
    "select $1, $2 from @ff_week_10_frosty_stage_/2022-07-01.csv limit 5;"
   ]
  },
  {
   "cell_type": "code",
   "execution_count": null,
   "id": "b2a8486f-80d9-4217-8a13-ab436fe1debb",
   "metadata": {
    "collapsed": false,
    "language": "sql",
    "name": "create_stage_normal_file_format"
   },
   "outputs": [],
   "source": [
    "create or replace stage ff_week_10_frosty_stage\n",
    "    url = 's3://frostyfridaychallenges/challenge_10/'\n",
    "    file_format = ff_csv_format\n",
    ";\n",
    "\n",
    "list @ff_week_10_frosty_stage;"
   ]
  },
  {
   "cell_type": "code",
   "execution_count": null,
   "id": "a27ec9a9-2675-4176-b8b9-841bec147d26",
   "metadata": {
    "collapsed": false,
    "language": "sql",
    "name": "create_file_format_for_using_infer_schema"
   },
   "outputs": [],
   "source": [
    "create or replace file format ff_csv_format_for_inferschema\n",
    "  type = CSV\n",
    "  parse_header = true\n",
    "  null_if = ('\\\\N', 'NULL', 'NUL', '')\n",
    "  field_optionally_enclosed_by = '\"'\n",
    "  skip_blank_lines = true -- default false, 空白行をスキップ \n",
    "  trim_space = true -- default false, |\" Hello world \"|  /* loads as */  > Hello world < | \"Hello world\" |  /* loads as */  >Hello world<\n",
    "  error_on_column_count_mismatch = false -- default true : 入力ファイルの区切り列（フィールド）の数が対応するテーブルの列の数と一致しない場合に、解析エラーを生成するかどうかを指定するブール値\n",
    "  -- copy into include_metadata を使うには、falseにする必要がある\n",
    "  replace_invalid_characters = true -- default false\n",
    "  empty_field_as_null = true -- default true\n",
    ";\n",
    "-- infer_schema用のStage\n",
    "create or replace stage ff_week_10_frosty_stage_for_inferschema\n",
    "    url = 's3://frostyfridaychallenges/challenge_10/'\n",
    "    file_format = ff_csv_format_for_inferschema\n",
    ";\n",
    "\n",
    "list @ff_week_10_frosty_stage_for_inferschema;\n",
    "\n",
    "select $1, $2, $3, $4, $5 from @ff_week_10_frosty_stage_ limit 5;\n",
    "\n",
    "select $1, $2, $3, $4, $5, metadata$filename, metadata$file_row_number, metadata$start_scan_time from @ff_week_10_frosty_stage_ limit 5;"
   ]
  },
  {
   "cell_type": "code",
   "execution_count": null,
   "id": "18bbe43b",
   "metadata": {},
   "outputs": [],
   "source": []
  },
  {
   "cell_type": "code",
   "execution_count": null,
   "id": "434f7105-48d1-483c-ba9b-1b730af6d88e",
   "metadata": {
    "collapsed": false,
    "language": "sql",
    "name": "test_read_table_infer_schema_file_format"
   },
   "outputs": [],
   "source": [
    "select \n",
    "--    *\n",
    "    column_name\n",
    "    , type\n",
    "    , nullable\n",
    "    , order_id\n",
    "from\n",
    "    table(infer_schema(\n",
    "        location=>'@ff_week_10_frosty_stage_for_inferschema'\n",
    "        , file_format=>'ff_csv_format_for_inferschema'\n",
    "    ));"
   ]
  },
  {
   "cell_type": "code",
   "execution_count": null,
   "id": "a25a494c-aa78-40ff-b0cd-b8e88ea9946e",
   "metadata": {
    "collapsed": false,
    "language": "sql",
    "name": "for_infer_schema"
   },
   "outputs": [],
   "source": [
    "select \n",
    "    array_agg(object_construct('COLUMN_NAME', column_name, 'TYPE', type, 'NULLABLE', nullable, 'ORDER_ID', order_id )) \n",
    "    -- * にすると16MBを超える場合もあるので、カラムを絞る\n",
    "\n",
    "    -- https://docs.snowflake.com/en/sql-reference/functions/infer_schema\n",
    "    -- Using * for ARRAY_AGG(OBJECT_CONSTRUCT()) may result in an error if the returned result is larger than 16MB. \n",
    "from\n",
    "    table(infer_schema(\n",
    "        location=>'@ff_week_10_frosty_stage_for_inferschema'\n",
    "        , file_format=>'ff_csv_format_for_inferschema'\n",
    "    ));"
   ]
  },
  {
   "cell_type": "code",
   "execution_count": null,
   "id": "5f3d08ce-433c-4b8c-a6c5-613170c6c2de",
   "metadata": {
    "collapsed": false,
    "language": "sql",
    "name": "add_metadata_columns_by_array_append_x3"
   },
   "outputs": [],
   "source": [
    "select \n",
    "    array_append (\n",
    "    array_append (\n",
    "    array_append (\n",
    "        array_agg(object_construct('COLUMN_NAME', column_name, 'TYPE', type, 'NULLABLE', nullable )) \n",
    "        , {'COLUMN_NAME':'filename', 'TYPE':'string', 'NULLABLE':true}::variant\n",
    "    )\n",
    "        , {'COLUMN_NAME':'file_row_number', 'TYPE':'number', 'NULLABLE':true}::variant\n",
    "\n",
    "    )\n",
    "        , {'COLUMN_NAME':'start_scan_time', 'TYPE':'TIMESTAMP_LTZ', 'NULLABLE':true}::variant\n",
    "    )\n",
    "\n",
    "    -- * にすると16MBを超える場合もあるので、カラムを絞る\n",
    "\n",
    "    -- https://docs.snowflake.com/en/sql-reference/functions/infer_schema\n",
    "    -- Using * for ARRAY_AGG(OBJECT_CONSTRUCT()) may result in an error if the returned result is larger than 16MB. \n",
    "from\n",
    "    table(infer_schema(\n",
    "        location=>'@ff_week_10_frosty_stage_for_inferschema'\n",
    "        , file_format=>'ff_csv_format_for_inferschema'\n",
    "    ));"
   ]
  },
  {
   "cell_type": "code",
   "execution_count": null,
   "id": "cfd0c108-3c45-4157-ad77-f528f2768d83",
   "metadata": {
    "collapsed": false,
    "language": "sql",
    "name": "create_table_by_add_metadata_columns_by_array_cat"
   },
   "outputs": [],
   "source": [
    "-- create table\n",
    "create or replace transient table week10_tbl\n",
    "    using template (\n",
    "select \n",
    "    array_cat(\n",
    "        array_agg(object_construct('COLUMN_NAME', column_name, 'TYPE', type, 'NULLABLE', nullable )) \n",
    "        -- * にすると16MBを超える場合もあるので、カラムを絞る\n",
    "\n",
    "        -- https://docs.snowflake.com/en/sql-reference/functions/infer_schema\n",
    "        -- Using * for ARRAY_AGG(OBJECT_CONSTRUCT()) may result in an error if the returned result is larger than 16MB.\n",
    "        , [\n",
    "            {'COLUMN_NAME':'FILENAME', 'TYPE':'STRING', 'NULLABLE':true}\n",
    "            , {'COLUMN_NAME':'FILE_ROW_NUMBER', 'TYPE':'NUMBER', 'NULLABLE':true}\n",
    "            , {'COLUMN_NAME':'START_SCAN_TIME', 'TYPE':'TIMESTAMP_LTZ', 'NULLABLE':true}\n",
    "        ]::variant\n",
    "    )\n",
    "from\n",
    "    table(infer_schema(\n",
    "        location=>'@ff_week_10_frosty_stage_for_inferschema'\n",
    "        , file_format=>'ff_csv_format_for_inferschema'\n",
    "        , ignore_case => true -- 大文字小文字が区別されないで、すべての列名は大文字になる\n",
    "        , max_records_per_file => 10000\n",
    "    )))\n",
    ";\n",
    "\n",
    "desc table week10_tbl;\n",
    "\n",
    "copy into week10_tbl \n",
    "from \n",
    "    @ff_week_10_frosty_stage_for_inferschema\n",
    "match_by_column_name = case_insensitive\n",
    "include_metadata = (\n",
    "   filename = METADATA$FILENAME\n",
    "   , file_row_number = METADATA$FILE_ROW_NUMBER\n",
    "   , start_scan_time = METADATA$START_SCAN_TIME\n",
    ")\n",
    ";"
   ]
  },
  {
   "cell_type": "code",
   "execution_count": null,
   "id": "3f43295c-3321-4a41-9d8e-d007496477da",
   "metadata": {
    "language": "sql",
    "name": "view_week10_tbl"
   },
   "outputs": [],
   "source": [
    "select * from week10_tbl limit 10;"
   ]
  },
  {
   "cell_type": "code",
   "execution_count": null,
   "id": "903f3456-c26f-4aa2-a3f7-cf148f4d8dbb",
   "metadata": {
    "collapsed": false,
    "language": "sql",
    "name": "crate_stored_procedure"
   },
   "outputs": [],
   "source": [
    "create or replace procedure dynamic_warehouse_data_load(stage_name string, table_name string)\n",
    "    returns table(value string)\n",
    "    language sql\n",
    "    execute as caller\n",
    "as\n",
    "    $$\n",
    "        declare\n",
    "            log_array array default ARRAY_CONSTRUCT();\n",
    "        begin\n",
    "            \n",
    "            -- stage上のファイルの情報を取得\n",
    "            execute immediate 'list @' || :stage_name;\n",
    "            let result_set_ls resultset := (select $1 as name , $2 as size from table(result_scan(last_query_id())));\n",
    "            let cur cursor for result_set_ls;\n",
    "\n",
    "            for t in cur do\n",
    "                let name string := t.name;\n",
    "                let size number := t.size;\n",
    "                if (size < 10240 ) then\n",
    "                    use warehouse ff_week10_xsmall_wh;\n",
    "                else\n",
    "                    use warehouse ff_week10_small_wh;\n",
    "                end if;\n",
    "                -- let sql string := 'copy into ' || :table_name || ' from @' || :stage_name || ' files = (''' || split_part(:name, '/', -1) || ''' )';\n",
    "                -- infer_schema、include_metadata を使う形で作り直し\n",
    "                let sql string := 'copy into ' || :table_name || ' from @' || :stage_name \n",
    "                || ' files = (''' || split_part(:name, '/', -1) || ''' )' \n",
    "                || ' match_by_column_name = case_insensitive'\n",
    "                || ' include_metadata = (filename = METADATA$FILENAME, file_row_number = METADATA$FILE_ROW_NUMBER, start_scan_time = METADATA$START_SCAN_TIME)';\n",
    "--                log_array := array_append(:log_array, 'sql :' || :sql );\n",
    "                execute immediate :sql;\n",
    "            end for;\n",
    "\n",
    "            let loaded_total number;\n",
    "            select count(*) into :loaded_total from week10_tbl;\n",
    "            log_array := array_append(:log_array, 'loaded_total :' || :loaded_total );\n",
    "\n",
    "            let rs resultset := (select value::string as value from table(flatten(input => :log_array)));\n",
    "            return table(rs);\n",
    "        end;\n",
    "    $$\n",
    ";"
   ]
  },
  {
   "cell_type": "code",
   "execution_count": null,
   "id": "523d21d3-545a-4fac-b98a-5e36e066a5c0",
   "metadata": {
    "language": "sql",
    "name": "truncate_and_call_stored_procedure"
   },
   "outputs": [],
   "source": [
    "truncate table week10_tbl;\n",
    "call dynamic_warehouse_data_load('ff_week_10_frosty_stage_for_inferschema', 'week10_tbl');"
   ]
  },
  {
   "cell_type": "code",
   "execution_count": null,
   "id": "461dac82-a853-44a4-8147-2c124e8b267d",
   "metadata": {
    "language": "sql",
    "name": "view_quary_history_by_session"
   },
   "outputs": [],
   "source": [
    "select query_id, query_text, warehouse_name from table(information_schema.query_history_by_session()) where startswith(query_text, 'copy into week10_tbl from') order by start_time desc limit 100;"
   ]
  }
 ],
 "metadata": {
  "kernelspec": {
   "display_name": "Streamlit Notebook",
   "name": "streamlit"
  }
 },
 "nbformat": 4,
 "nbformat_minor": 5
}
