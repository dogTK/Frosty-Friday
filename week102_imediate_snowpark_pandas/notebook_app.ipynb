{
 "metadata": {
  "kernelspec": {
   "display_name": "Streamlit Notebook",
   "name": "streamlit"
  }
 },
 "nbformat_minor": 5,
 "nbformat": 4,
 "cells": [
  {
   "cell_type": "markdown",
   "id": "6c96d3c4-f1b5-4097-9c65-c0bf10777bba",
   "metadata": {
    "name": "cell1",
    "collapsed": false
   },
   "source": "# Week102 Intermediate Snowflake Pandas "
  },
  {
   "cell_type": "code",
   "id": "d0976fd6-840b-44a5-bd95-e61a5f10dafc",
   "metadata": {
    "language": "sql",
    "name": "cell2"
   },
   "outputs": [],
   "source": "create or replace stage frosty_stage url = 's3://frostyfridaychallenges/challenge_102/';\nlist @frosty_stage;",
   "execution_count": null
  },
  {
   "cell_type": "code",
   "id": "5c992189-ea47-44d4-9eb1-99194e7faf4c",
   "metadata": {
    "language": "python",
    "name": "cell3",
    "collapsed": false
   },
   "outputs": [],
   "source": "import modin.pandas as pd\nimport snowflake.snowpark.modin.plugin\n\nfrom snowflake.snowpark.context import get_active_session\nsession = get_active_session()\n\nclothes_shop_df = pd.read_csv('@frosty_stage/clothes_shop_purchases.csv')\n\n",
   "execution_count": null
  },
  {
   "cell_type": "code",
   "id": "6feedb9d-fe65-4dd2-af59-523c7f7ca56f",
   "metadata": {
    "language": "python",
    "name": "cell4",
    "collapsed": false
   },
   "outputs": [],
   "source": "import streamlit as st\nst.write(clothes_shop_df.dtypes)\nst.dataframe(clothes_shop_df)",
   "execution_count": null
  },
  {
   "cell_type": "code",
   "id": "9a301bbf-65a2-4dba-ab90-e91b5a485d31",
   "metadata": {
    "language": "python",
    "name": "cell5",
    "collapsed": false
   },
   "outputs": [],
   "source": "\ndf = clothes_shop_df.to_pandas()\nresult = df.groupby(df[\"Timestamp\"].dt.hour).sum(numeric_only=True).sort_values(\"Total_Price\", ascending=False)\nst.dataframe(data=result,width=1000)",
   "execution_count": null
  },
  {
   "cell_type": "code",
   "id": "d6931ed4-a29c-43e6-95c0-759aa8d43e8d",
   "metadata": {
    "language": "python",
    "name": "cell6",
    "collapsed": false
   },
   "outputs": [],
   "source": "df = clothes_shop_df.to_pandas()\nresult = df.groupby(df[\"Timestamp\"].dt.hour).sum(numeric_only=True).sort_values(\"Total_Price\", ascending=False).index[0]\nst.write(result)",
   "execution_count": null
  },
  {
   "cell_type": "code",
   "id": "adf7468f-51e9-4153-91fd-649dc2231e9c",
   "metadata": {
    "language": "python",
    "name": "cell7"
   },
   "outputs": [],
   "source": "df = clothes_shop_df.to_pandas()\nresult = df.groupby(df[\"Server\"]).sum(numeric_only=True).sort_values(\"Total_Price\", ascending=False).index[0]\nst.write(result)",
   "execution_count": null
  },
  {
   "cell_type": "code",
   "id": "b4704279-413c-4b2e-bb5b-e0322d2cffdb",
   "metadata": {
    "language": "python",
    "name": "cell8",
    "collapsed": false
   },
   "outputs": [],
   "source": "df = clothes_shop_df.head(5)\n# If apply() is used with operand *, it fails.\ndf[\"Total_Price_After_Tax\"] = df[\"Total_Price\"] * 0.8\nst.dataframe(df[[\"Transaction_ID\", \"Total_Price\", \"Total_Price_After_Tax\"]])",
   "execution_count": null
  },
  {
   "cell_type": "code",
   "id": "e38dcb59-ca68-46bb-849c-3ded16d0ee30",
   "metadata": {
    "language": "python",
    "name": "cell9",
    "collapsed": false
   },
   "outputs": [],
   "source": "df = clothes_shop_df\ndf = df.groupby(df[\"Till_Number\"]).sum(numeric_only=True).sort_values(\"Total_Price\", ascending=False)\nst.dataframe(df[[\"Total_Price\"]])",
   "execution_count": null
  }
 ]
}